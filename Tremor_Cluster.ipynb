{
  "nbformat": 4,
  "nbformat_minor": 0,
  "metadata": {
    "colab": {
      "provenance": [],
      "gpuType": "T4",
      "authorship_tag": "ABX9TyNSL8OSHnyEevJeFC2fuoew"
    },
    "kernelspec": {
      "name": "python3",
      "display_name": "Python 3"
    },
    "language_info": {
      "name": "python"
    },
    "accelerator": "GPU"
  },
  "cells": [
    {
      "cell_type": "code",
      "source": [
        "import pandas as pd\n",
        "import numpy as np\n",
        "# use NVIDIA RAPIDS\n",
        "import cudf\n",
        "import cuml\n",
        "import cupy as cp\n",
        "!nvidia-smi"
      ],
      "metadata": {
        "colab": {
          "base_uri": "https://localhost:8080/"
        },
        "id": "UQ0Fb9gOJqek",
        "outputId": "38c3f737-a81e-4dec-a94b-87f1cb51f93b"
      },
      "execution_count": 1,
      "outputs": [
        {
          "output_type": "stream",
          "name": "stdout",
          "text": [
            "Tue Oct  7 03:48:30 2025       \n",
            "+-----------------------------------------------------------------------------------------+\n",
            "| NVIDIA-SMI 550.54.15              Driver Version: 550.54.15      CUDA Version: 12.4     |\n",
            "|-----------------------------------------+------------------------+----------------------+\n",
            "| GPU  Name                 Persistence-M | Bus-Id          Disp.A | Volatile Uncorr. ECC |\n",
            "| Fan  Temp   Perf          Pwr:Usage/Cap |           Memory-Usage | GPU-Util  Compute M. |\n",
            "|                                         |                        |               MIG M. |\n",
            "|=========================================+========================+======================|\n",
            "|   0  Tesla T4                       Off |   00000000:00:04.0 Off |                    0 |\n",
            "| N/A   53C    P8             11W /   70W |       2MiB /  15360MiB |      0%      Default |\n",
            "|                                         |                        |                  N/A |\n",
            "+-----------------------------------------+------------------------+----------------------+\n",
            "                                                                                         \n",
            "+-----------------------------------------------------------------------------------------+\n",
            "| Processes:                                                                              |\n",
            "|  GPU   GI   CI        PID   Type   Process name                              GPU Memory |\n",
            "|        ID   ID                                                               Usage      |\n",
            "|=========================================================================================|\n",
            "|  No running processes found                                                             |\n",
            "+-----------------------------------------------------------------------------------------+\n"
          ]
        }
      ]
    },
    {
      "cell_type": "markdown",
      "source": [
        "# Data Download"
      ],
      "metadata": {
        "id": "1vZKe0VERGuK"
      }
    },
    {
      "cell_type": "markdown",
      "source": [
        "Download the processed data (taken from jupyter notebook)."
      ],
      "metadata": {
        "id": "MdfqWaNTwR5r"
      }
    },
    {
      "cell_type": "code",
      "source": [
        "import gdown\n",
        "import pickle\n",
        "\n",
        "gdown.download('https://drive.google.com/file/d/1gOjaG-u6Dou1OK6rUkdcE2hwtWjKWc8k/view?usp=drive_link', 'windowed_data_dict.pkl', fuzzy=True)\n",
        "\n",
        "with open('windowed_data_dict.pkl', 'rb') as f:\n",
        "    data = pickle.load(f)\n",
        "\n",
        "print('\\n')\n",
        "for key in data:\n",
        "    print(f'{key}: {len(data[key])}')"
      ],
      "metadata": {
        "colab": {
          "base_uri": "https://localhost:8080/"
        },
        "id": "Et_tI0hsFArz",
        "outputId": "ebe3a4ef-204c-44e4-a36e-6a16fb779baa"
      },
      "execution_count": 2,
      "outputs": [
        {
          "output_type": "stream",
          "name": "stderr",
          "text": [
            "Downloading...\n",
            "From: https://drive.google.com/uc?id=1gOjaG-u6Dou1OK6rUkdcE2hwtWjKWc8k\n",
            "To: /content/windowed_data_dict.pkl\n",
            "100%|██████████| 22.6M/22.6M [00:00<00:00, 46.0MB/s]"
          ]
        },
        {
          "output_type": "stream",
          "name": "stdout",
          "text": [
            "\n",
            "\n",
            "x: 3091\n",
            "y: 3091\n",
            "z: 3091\n"
          ]
        },
        {
          "output_type": "stream",
          "name": "stderr",
          "text": [
            "\n"
          ]
        }
      ]
    },
    {
      "cell_type": "markdown",
      "source": [
        "# Select Features"
      ],
      "metadata": {
        "id": "hjjzst2bQ9eK"
      }
    },
    {
      "cell_type": "markdown",
      "source": [
        "**Features:** Extract 7 features per channel (xyz) so we have a feature vector of shape (1,21) though do note that it could be better to reshape it as a (3,7) feature matrix. However I don't believe that simpler unsupervised methods account for spatial relationships this way so I will leave it as (1,7). We have one of these feature vectors per window, accounting for signal properties relating to tremors:\n",
        "\n",
        "| Signal Property of Interest | Feature Representation |\n",
        "|:----------------------------|:-----------------------|\n",
        "| Basic Shape of Signal | Mean, Standard Deviation (std) |\n",
        "| Average Energy | Root Mean Square (rms) |\n",
        "| Oscillatory Behaviour | Zero Crossings |\n",
        "\n",
        "Mean, std, and rms will be computed for the current value as well as the derivative at that point by approximating it using a first difference. Together that should give properties that define the shape of the signal as well as its average \"energy\".\n",
        "Zero crossings is an important addition since tremors are rapid acceleration in opposing/different directions, so seeing when the raw accelerometer data goes back and forth over 0 represents its oscilatory behaviour. Note: Crossing zero only works here since we are observing resting tremor when the accelerometer's drift is removed. This feature is misleading when voluntary movement is added since an acceleration offset would be introduced."
      ],
      "metadata": {
        "id": "gLjIxB6BrPq5"
      }
    },
    {
      "cell_type": "code",
      "source": [
        "gdf = cudf.DataFrame()\n",
        "\n",
        "for key in data:\n",
        "    mean = []\n",
        "    std = []\n",
        "    rms = []\n",
        "    diff_mean = []\n",
        "    diff_std = []\n",
        "    diff_rms = []\n",
        "    zero_crossings = []\n",
        "\n",
        "    for window in data[key]:\n",
        "        mean.append(np.mean(window))\n",
        "        std.append(np.std(window))\n",
        "        diff_mean.append(np.mean(np.diff(window)))\n",
        "        diff_std.append(np.std(np.diff(window)))\n",
        "        diff_rms.append(np.sqrt(np.mean(window**2)))\n",
        "        rms.append(np.sqrt(np.mean(window**2)))\n",
        "        sign_mask = np.diff(np.sign(window)) != 0\n",
        "        zero_crossings.append(np.sum(sign_mask))\n",
        "\n",
        "    gdf[f'{key}_mean'] = mean\n",
        "    gdf[f'{key}_std'] = std\n",
        "    gdf[f'{key}_rms'] = rms\n",
        "    gdf[f'{key}_diff_mean'] = diff_mean\n",
        "    gdf[f'{key}_diff_std'] = diff_std\n",
        "    gdf[f'{key}_diff_rms'] = diff_rms\n",
        "    gdf[f'{key}_zero_crossings'] = zero_crossings\n",
        "\n",
        "gdf.head()"
      ],
      "metadata": {
        "colab": {
          "base_uri": "https://localhost:8080/",
          "height": 255
        },
        "id": "BSBWK41SKAs2",
        "outputId": "bacef198-ba68-4a35-b30e-aebb53a0db58"
      },
      "execution_count": 3,
      "outputs": [
        {
          "output_type": "execute_result",
          "data": {
            "text/plain": [
              "        x_mean         x_std         x_rms  x_diff_mean   x_diff_std  \\\n",
              "0  1515.011202  23552.991682  23601.666808    -0.220061  9337.481227   \n",
              "1  1152.140395  22430.473270  22460.043602     8.967072  8966.870476   \n",
              "2   526.255387  18905.766001  18913.088928   -11.979169  7376.227118   \n",
              "3  -453.747071  15560.702385  15567.316568     3.811679  5377.901643   \n",
              "4 -1042.499489  15320.614117  15356.041877    -5.654660  4181.936805   \n",
              "\n",
              "     x_diff_rms  x_zero_crossings       y_mean         y_std         y_rms  \\\n",
              "0  23601.666808                30 -1708.054460  26647.824254  26702.509011   \n",
              "1  22460.043602                28 -2209.195321  25475.655363  25571.264344   \n",
              "2  18913.088928                26 -2251.342164  24564.149685  24667.103423   \n",
              "3  15567.316568                23 -1965.353968  27182.512645  27253.469686   \n",
              "4  15356.041877                21 -1581.295955  32176.223300  32215.056150   \n",
              "\n",
              "   ...    y_diff_std    y_diff_rms  y_zero_crossings       z_mean  \\\n",
              "0  ...  10243.486490  26702.509011                26  1865.900669   \n",
              "1  ...   9801.379428  25571.264344                22  2476.855967   \n",
              "2  ...   8582.724825  24667.103423                23  2792.564801   \n",
              "3  ...   7355.561089  27253.469686                21  2675.909788   \n",
              "4  ...   6818.885136  32215.056150                23  1967.972331   \n",
              "\n",
              "          z_std         z_rms  z_diff_mean   z_diff_std    z_diff_rms  \\\n",
              "0  19450.545772  19539.839204    11.560370  7525.332442  19539.839204   \n",
              "1  18734.684156  18897.703721     4.865720  7025.541044  18897.703721   \n",
              "2  18660.264974  18868.065801   -14.741092  5842.720542  18868.065801   \n",
              "3  21537.708362  21703.303313    -1.340546  4767.143302  21703.303313   \n",
              "4  25732.504439  25807.648088     2.699582  4446.140622  25807.648088   \n",
              "\n",
              "   z_zero_crossings  \n",
              "0                29  \n",
              "1                28  \n",
              "2                25  \n",
              "3                24  \n",
              "4                23  \n",
              "\n",
              "[5 rows x 21 columns]"
            ],
            "text/html": [
              "<div>\n",
              "<style scoped>\n",
              "    .dataframe tbody tr th:only-of-type {\n",
              "        vertical-align: middle;\n",
              "    }\n",
              "\n",
              "    .dataframe tbody tr th {\n",
              "        vertical-align: top;\n",
              "    }\n",
              "\n",
              "    .dataframe thead th {\n",
              "        text-align: right;\n",
              "    }\n",
              "</style>\n",
              "<table border=\"1\" class=\"dataframe\">\n",
              "  <thead>\n",
              "    <tr style=\"text-align: right;\">\n",
              "      <th></th>\n",
              "      <th>x_mean</th>\n",
              "      <th>x_std</th>\n",
              "      <th>x_rms</th>\n",
              "      <th>x_diff_mean</th>\n",
              "      <th>x_diff_std</th>\n",
              "      <th>x_diff_rms</th>\n",
              "      <th>x_zero_crossings</th>\n",
              "      <th>y_mean</th>\n",
              "      <th>y_std</th>\n",
              "      <th>y_rms</th>\n",
              "      <th>...</th>\n",
              "      <th>y_diff_std</th>\n",
              "      <th>y_diff_rms</th>\n",
              "      <th>y_zero_crossings</th>\n",
              "      <th>z_mean</th>\n",
              "      <th>z_std</th>\n",
              "      <th>z_rms</th>\n",
              "      <th>z_diff_mean</th>\n",
              "      <th>z_diff_std</th>\n",
              "      <th>z_diff_rms</th>\n",
              "      <th>z_zero_crossings</th>\n",
              "    </tr>\n",
              "  </thead>\n",
              "  <tbody>\n",
              "    <tr>\n",
              "      <th>0</th>\n",
              "      <td>1515.011202</td>\n",
              "      <td>23552.991682</td>\n",
              "      <td>23601.666808</td>\n",
              "      <td>-0.220061</td>\n",
              "      <td>9337.481227</td>\n",
              "      <td>23601.666808</td>\n",
              "      <td>30</td>\n",
              "      <td>-1708.054460</td>\n",
              "      <td>26647.824254</td>\n",
              "      <td>26702.509011</td>\n",
              "      <td>...</td>\n",
              "      <td>10243.486490</td>\n",
              "      <td>26702.509011</td>\n",
              "      <td>26</td>\n",
              "      <td>1865.900669</td>\n",
              "      <td>19450.545772</td>\n",
              "      <td>19539.839204</td>\n",
              "      <td>11.560370</td>\n",
              "      <td>7525.332442</td>\n",
              "      <td>19539.839204</td>\n",
              "      <td>29</td>\n",
              "    </tr>\n",
              "    <tr>\n",
              "      <th>1</th>\n",
              "      <td>1152.140395</td>\n",
              "      <td>22430.473270</td>\n",
              "      <td>22460.043602</td>\n",
              "      <td>8.967072</td>\n",
              "      <td>8966.870476</td>\n",
              "      <td>22460.043602</td>\n",
              "      <td>28</td>\n",
              "      <td>-2209.195321</td>\n",
              "      <td>25475.655363</td>\n",
              "      <td>25571.264344</td>\n",
              "      <td>...</td>\n",
              "      <td>9801.379428</td>\n",
              "      <td>25571.264344</td>\n",
              "      <td>22</td>\n",
              "      <td>2476.855967</td>\n",
              "      <td>18734.684156</td>\n",
              "      <td>18897.703721</td>\n",
              "      <td>4.865720</td>\n",
              "      <td>7025.541044</td>\n",
              "      <td>18897.703721</td>\n",
              "      <td>28</td>\n",
              "    </tr>\n",
              "    <tr>\n",
              "      <th>2</th>\n",
              "      <td>526.255387</td>\n",
              "      <td>18905.766001</td>\n",
              "      <td>18913.088928</td>\n",
              "      <td>-11.979169</td>\n",
              "      <td>7376.227118</td>\n",
              "      <td>18913.088928</td>\n",
              "      <td>26</td>\n",
              "      <td>-2251.342164</td>\n",
              "      <td>24564.149685</td>\n",
              "      <td>24667.103423</td>\n",
              "      <td>...</td>\n",
              "      <td>8582.724825</td>\n",
              "      <td>24667.103423</td>\n",
              "      <td>23</td>\n",
              "      <td>2792.564801</td>\n",
              "      <td>18660.264974</td>\n",
              "      <td>18868.065801</td>\n",
              "      <td>-14.741092</td>\n",
              "      <td>5842.720542</td>\n",
              "      <td>18868.065801</td>\n",
              "      <td>25</td>\n",
              "    </tr>\n",
              "    <tr>\n",
              "      <th>3</th>\n",
              "      <td>-453.747071</td>\n",
              "      <td>15560.702385</td>\n",
              "      <td>15567.316568</td>\n",
              "      <td>3.811679</td>\n",
              "      <td>5377.901643</td>\n",
              "      <td>15567.316568</td>\n",
              "      <td>23</td>\n",
              "      <td>-1965.353968</td>\n",
              "      <td>27182.512645</td>\n",
              "      <td>27253.469686</td>\n",
              "      <td>...</td>\n",
              "      <td>7355.561089</td>\n",
              "      <td>27253.469686</td>\n",
              "      <td>21</td>\n",
              "      <td>2675.909788</td>\n",
              "      <td>21537.708362</td>\n",
              "      <td>21703.303313</td>\n",
              "      <td>-1.340546</td>\n",
              "      <td>4767.143302</td>\n",
              "      <td>21703.303313</td>\n",
              "      <td>24</td>\n",
              "    </tr>\n",
              "    <tr>\n",
              "      <th>4</th>\n",
              "      <td>-1042.499489</td>\n",
              "      <td>15320.614117</td>\n",
              "      <td>15356.041877</td>\n",
              "      <td>-5.654660</td>\n",
              "      <td>4181.936805</td>\n",
              "      <td>15356.041877</td>\n",
              "      <td>21</td>\n",
              "      <td>-1581.295955</td>\n",
              "      <td>32176.223300</td>\n",
              "      <td>32215.056150</td>\n",
              "      <td>...</td>\n",
              "      <td>6818.885136</td>\n",
              "      <td>32215.056150</td>\n",
              "      <td>23</td>\n",
              "      <td>1967.972331</td>\n",
              "      <td>25732.504439</td>\n",
              "      <td>25807.648088</td>\n",
              "      <td>2.699582</td>\n",
              "      <td>4446.140622</td>\n",
              "      <td>25807.648088</td>\n",
              "      <td>23</td>\n",
              "    </tr>\n",
              "  </tbody>\n",
              "</table>\n",
              "<p>5 rows × 21 columns</p>\n",
              "</div>"
            ]
          },
          "metadata": {},
          "execution_count": 3
        }
      ]
    },
    {
      "cell_type": "markdown",
      "source": [
        "# Clustering (unsupervised): KMeans"
      ],
      "metadata": {
        "id": "r1MJ-GroRPIs"
      }
    },
    {
      "cell_type": "markdown",
      "source": [
        "**Clustering:** Now we employ unsupervised methods to cluster the feature representations to observe if there are distinct groups. Of course we are hoping to see some divide between tremor and non-tremor window samples. For this we can try KMeans which allows us to specify the number of clusters which is helpful for our use case since ideally, we will find 2 distinct groups (tremor, non-tremor). Though we will also try 3 clusters if there is some difference between non-tremor, pre-tremor, and tremor phases."
      ],
      "metadata": {
        "id": "tG8KOC0T0JHF"
      }
    },
    {
      "cell_type": "code",
      "source": [
        "from cuml.cluster import KMeans\n",
        "\n",
        "kmeans_2 = KMeans(n_clusters=2, max_iter=300, random_state=20)\n",
        "kmeans_2.fit(gdf)\n",
        "\n",
        "# use the same random state for consistency\n",
        "kmeans_3 = KMeans(n_clusters=3, max_iter=300, random_state=20)\n",
        "kmeans_3.fit(gdf)"
      ],
      "metadata": {
        "colab": {
          "base_uri": "https://localhost:8080/",
          "height": 80
        },
        "id": "GWb7s91xwcCC",
        "outputId": "cff3ad7c-ff4e-42dc-ce56-9dcef9e356a4"
      },
      "execution_count": 4,
      "outputs": [
        {
          "output_type": "execute_result",
          "data": {
            "text/plain": [
              "KMeans()"
            ],
            "text/html": [
              "<style>#sk-container-id-1 {\n",
              "  /* Definition of color scheme common for light and dark mode */\n",
              "  --sklearn-color-text: #000;\n",
              "  --sklearn-color-text-muted: #666;\n",
              "  --sklearn-color-line: gray;\n",
              "  /* Definition of color scheme for unfitted estimators */\n",
              "  --sklearn-color-unfitted-level-0: #fff5e6;\n",
              "  --sklearn-color-unfitted-level-1: #f6e4d2;\n",
              "  --sklearn-color-unfitted-level-2: #ffe0b3;\n",
              "  --sklearn-color-unfitted-level-3: chocolate;\n",
              "  /* Definition of color scheme for fitted estimators */\n",
              "  --sklearn-color-fitted-level-0: #f0f8ff;\n",
              "  --sklearn-color-fitted-level-1: #d4ebff;\n",
              "  --sklearn-color-fitted-level-2: #b3dbfd;\n",
              "  --sklearn-color-fitted-level-3: cornflowerblue;\n",
              "\n",
              "  /* Specific color for light theme */\n",
              "  --sklearn-color-text-on-default-background: var(--sg-text-color, var(--theme-code-foreground, var(--jp-content-font-color1, black)));\n",
              "  --sklearn-color-background: var(--sg-background-color, var(--theme-background, var(--jp-layout-color0, white)));\n",
              "  --sklearn-color-border-box: var(--sg-text-color, var(--theme-code-foreground, var(--jp-content-font-color1, black)));\n",
              "  --sklearn-color-icon: #696969;\n",
              "\n",
              "  @media (prefers-color-scheme: dark) {\n",
              "    /* Redefinition of color scheme for dark theme */\n",
              "    --sklearn-color-text-on-default-background: var(--sg-text-color, var(--theme-code-foreground, var(--jp-content-font-color1, white)));\n",
              "    --sklearn-color-background: var(--sg-background-color, var(--theme-background, var(--jp-layout-color0, #111)));\n",
              "    --sklearn-color-border-box: var(--sg-text-color, var(--theme-code-foreground, var(--jp-content-font-color1, white)));\n",
              "    --sklearn-color-icon: #878787;\n",
              "  }\n",
              "}\n",
              "\n",
              "#sk-container-id-1 {\n",
              "  color: var(--sklearn-color-text);\n",
              "}\n",
              "\n",
              "#sk-container-id-1 pre {\n",
              "  padding: 0;\n",
              "}\n",
              "\n",
              "#sk-container-id-1 input.sk-hidden--visually {\n",
              "  border: 0;\n",
              "  clip: rect(1px 1px 1px 1px);\n",
              "  clip: rect(1px, 1px, 1px, 1px);\n",
              "  height: 1px;\n",
              "  margin: -1px;\n",
              "  overflow: hidden;\n",
              "  padding: 0;\n",
              "  position: absolute;\n",
              "  width: 1px;\n",
              "}\n",
              "\n",
              "#sk-container-id-1 div.sk-dashed-wrapped {\n",
              "  border: 1px dashed var(--sklearn-color-line);\n",
              "  margin: 0 0.4em 0.5em 0.4em;\n",
              "  box-sizing: border-box;\n",
              "  padding-bottom: 0.4em;\n",
              "  background-color: var(--sklearn-color-background);\n",
              "}\n",
              "\n",
              "#sk-container-id-1 div.sk-container {\n",
              "  /* jupyter's `normalize.less` sets `[hidden] { display: none; }`\n",
              "     but bootstrap.min.css set `[hidden] { display: none !important; }`\n",
              "     so we also need the `!important` here to be able to override the\n",
              "     default hidden behavior on the sphinx rendered scikit-learn.org.\n",
              "     See: https://github.com/scikit-learn/scikit-learn/issues/21755 */\n",
              "  display: inline-block !important;\n",
              "  position: relative;\n",
              "}\n",
              "\n",
              "#sk-container-id-1 div.sk-text-repr-fallback {\n",
              "  display: none;\n",
              "}\n",
              "\n",
              "div.sk-parallel-item,\n",
              "div.sk-serial,\n",
              "div.sk-item {\n",
              "  /* draw centered vertical line to link estimators */\n",
              "  background-image: linear-gradient(var(--sklearn-color-text-on-default-background), var(--sklearn-color-text-on-default-background));\n",
              "  background-size: 2px 100%;\n",
              "  background-repeat: no-repeat;\n",
              "  background-position: center center;\n",
              "}\n",
              "\n",
              "/* Parallel-specific style estimator block */\n",
              "\n",
              "#sk-container-id-1 div.sk-parallel-item::after {\n",
              "  content: \"\";\n",
              "  width: 100%;\n",
              "  border-bottom: 2px solid var(--sklearn-color-text-on-default-background);\n",
              "  flex-grow: 1;\n",
              "}\n",
              "\n",
              "#sk-container-id-1 div.sk-parallel {\n",
              "  display: flex;\n",
              "  align-items: stretch;\n",
              "  justify-content: center;\n",
              "  background-color: var(--sklearn-color-background);\n",
              "  position: relative;\n",
              "}\n",
              "\n",
              "#sk-container-id-1 div.sk-parallel-item {\n",
              "  display: flex;\n",
              "  flex-direction: column;\n",
              "}\n",
              "\n",
              "#sk-container-id-1 div.sk-parallel-item:first-child::after {\n",
              "  align-self: flex-end;\n",
              "  width: 50%;\n",
              "}\n",
              "\n",
              "#sk-container-id-1 div.sk-parallel-item:last-child::after {\n",
              "  align-self: flex-start;\n",
              "  width: 50%;\n",
              "}\n",
              "\n",
              "#sk-container-id-1 div.sk-parallel-item:only-child::after {\n",
              "  width: 0;\n",
              "}\n",
              "\n",
              "/* Serial-specific style estimator block */\n",
              "\n",
              "#sk-container-id-1 div.sk-serial {\n",
              "  display: flex;\n",
              "  flex-direction: column;\n",
              "  align-items: center;\n",
              "  background-color: var(--sklearn-color-background);\n",
              "  padding-right: 1em;\n",
              "  padding-left: 1em;\n",
              "}\n",
              "\n",
              "\n",
              "/* Toggleable style: style used for estimator/Pipeline/ColumnTransformer box that is\n",
              "clickable and can be expanded/collapsed.\n",
              "- Pipeline and ColumnTransformer use this feature and define the default style\n",
              "- Estimators will overwrite some part of the style using the `sk-estimator` class\n",
              "*/\n",
              "\n",
              "/* Pipeline and ColumnTransformer style (default) */\n",
              "\n",
              "#sk-container-id-1 div.sk-toggleable {\n",
              "  /* Default theme specific background. It is overwritten whether we have a\n",
              "  specific estimator or a Pipeline/ColumnTransformer */\n",
              "  background-color: var(--sklearn-color-background);\n",
              "}\n",
              "\n",
              "/* Toggleable label */\n",
              "#sk-container-id-1 label.sk-toggleable__label {\n",
              "  cursor: pointer;\n",
              "  display: flex;\n",
              "  width: 100%;\n",
              "  margin-bottom: 0;\n",
              "  padding: 0.5em;\n",
              "  box-sizing: border-box;\n",
              "  text-align: center;\n",
              "  align-items: start;\n",
              "  justify-content: space-between;\n",
              "  gap: 0.5em;\n",
              "}\n",
              "\n",
              "#sk-container-id-1 label.sk-toggleable__label .caption {\n",
              "  font-size: 0.6rem;\n",
              "  font-weight: lighter;\n",
              "  color: var(--sklearn-color-text-muted);\n",
              "}\n",
              "\n",
              "#sk-container-id-1 label.sk-toggleable__label-arrow:before {\n",
              "  /* Arrow on the left of the label */\n",
              "  content: \"▸\";\n",
              "  float: left;\n",
              "  margin-right: 0.25em;\n",
              "  color: var(--sklearn-color-icon);\n",
              "}\n",
              "\n",
              "#sk-container-id-1 label.sk-toggleable__label-arrow:hover:before {\n",
              "  color: var(--sklearn-color-text);\n",
              "}\n",
              "\n",
              "/* Toggleable content - dropdown */\n",
              "\n",
              "#sk-container-id-1 div.sk-toggleable__content {\n",
              "  max-height: 0;\n",
              "  max-width: 0;\n",
              "  overflow: hidden;\n",
              "  text-align: left;\n",
              "  /* unfitted */\n",
              "  background-color: var(--sklearn-color-unfitted-level-0);\n",
              "}\n",
              "\n",
              "#sk-container-id-1 div.sk-toggleable__content.fitted {\n",
              "  /* fitted */\n",
              "  background-color: var(--sklearn-color-fitted-level-0);\n",
              "}\n",
              "\n",
              "#sk-container-id-1 div.sk-toggleable__content pre {\n",
              "  margin: 0.2em;\n",
              "  border-radius: 0.25em;\n",
              "  color: var(--sklearn-color-text);\n",
              "  /* unfitted */\n",
              "  background-color: var(--sklearn-color-unfitted-level-0);\n",
              "}\n",
              "\n",
              "#sk-container-id-1 div.sk-toggleable__content.fitted pre {\n",
              "  /* unfitted */\n",
              "  background-color: var(--sklearn-color-fitted-level-0);\n",
              "}\n",
              "\n",
              "#sk-container-id-1 input.sk-toggleable__control:checked~div.sk-toggleable__content {\n",
              "  /* Expand drop-down */\n",
              "  max-height: 200px;\n",
              "  max-width: 100%;\n",
              "  overflow: auto;\n",
              "}\n",
              "\n",
              "#sk-container-id-1 input.sk-toggleable__control:checked~label.sk-toggleable__label-arrow:before {\n",
              "  content: \"▾\";\n",
              "}\n",
              "\n",
              "/* Pipeline/ColumnTransformer-specific style */\n",
              "\n",
              "#sk-container-id-1 div.sk-label input.sk-toggleable__control:checked~label.sk-toggleable__label {\n",
              "  color: var(--sklearn-color-text);\n",
              "  background-color: var(--sklearn-color-unfitted-level-2);\n",
              "}\n",
              "\n",
              "#sk-container-id-1 div.sk-label.fitted input.sk-toggleable__control:checked~label.sk-toggleable__label {\n",
              "  background-color: var(--sklearn-color-fitted-level-2);\n",
              "}\n",
              "\n",
              "/* Estimator-specific style */\n",
              "\n",
              "/* Colorize estimator box */\n",
              "#sk-container-id-1 div.sk-estimator input.sk-toggleable__control:checked~label.sk-toggleable__label {\n",
              "  /* unfitted */\n",
              "  background-color: var(--sklearn-color-unfitted-level-2);\n",
              "}\n",
              "\n",
              "#sk-container-id-1 div.sk-estimator.fitted input.sk-toggleable__control:checked~label.sk-toggleable__label {\n",
              "  /* fitted */\n",
              "  background-color: var(--sklearn-color-fitted-level-2);\n",
              "}\n",
              "\n",
              "#sk-container-id-1 div.sk-label label.sk-toggleable__label,\n",
              "#sk-container-id-1 div.sk-label label {\n",
              "  /* The background is the default theme color */\n",
              "  color: var(--sklearn-color-text-on-default-background);\n",
              "}\n",
              "\n",
              "/* On hover, darken the color of the background */\n",
              "#sk-container-id-1 div.sk-label:hover label.sk-toggleable__label {\n",
              "  color: var(--sklearn-color-text);\n",
              "  background-color: var(--sklearn-color-unfitted-level-2);\n",
              "}\n",
              "\n",
              "/* Label box, darken color on hover, fitted */\n",
              "#sk-container-id-1 div.sk-label.fitted:hover label.sk-toggleable__label.fitted {\n",
              "  color: var(--sklearn-color-text);\n",
              "  background-color: var(--sklearn-color-fitted-level-2);\n",
              "}\n",
              "\n",
              "/* Estimator label */\n",
              "\n",
              "#sk-container-id-1 div.sk-label label {\n",
              "  font-family: monospace;\n",
              "  font-weight: bold;\n",
              "  display: inline-block;\n",
              "  line-height: 1.2em;\n",
              "}\n",
              "\n",
              "#sk-container-id-1 div.sk-label-container {\n",
              "  text-align: center;\n",
              "}\n",
              "\n",
              "/* Estimator-specific */\n",
              "#sk-container-id-1 div.sk-estimator {\n",
              "  font-family: monospace;\n",
              "  border: 1px dotted var(--sklearn-color-border-box);\n",
              "  border-radius: 0.25em;\n",
              "  box-sizing: border-box;\n",
              "  margin-bottom: 0.5em;\n",
              "  /* unfitted */\n",
              "  background-color: var(--sklearn-color-unfitted-level-0);\n",
              "}\n",
              "\n",
              "#sk-container-id-1 div.sk-estimator.fitted {\n",
              "  /* fitted */\n",
              "  background-color: var(--sklearn-color-fitted-level-0);\n",
              "}\n",
              "\n",
              "/* on hover */\n",
              "#sk-container-id-1 div.sk-estimator:hover {\n",
              "  /* unfitted */\n",
              "  background-color: var(--sklearn-color-unfitted-level-2);\n",
              "}\n",
              "\n",
              "#sk-container-id-1 div.sk-estimator.fitted:hover {\n",
              "  /* fitted */\n",
              "  background-color: var(--sklearn-color-fitted-level-2);\n",
              "}\n",
              "\n",
              "/* Specification for estimator info (e.g. \"i\" and \"?\") */\n",
              "\n",
              "/* Common style for \"i\" and \"?\" */\n",
              "\n",
              ".sk-estimator-doc-link,\n",
              "a:link.sk-estimator-doc-link,\n",
              "a:visited.sk-estimator-doc-link {\n",
              "  float: right;\n",
              "  font-size: smaller;\n",
              "  line-height: 1em;\n",
              "  font-family: monospace;\n",
              "  background-color: var(--sklearn-color-background);\n",
              "  border-radius: 1em;\n",
              "  height: 1em;\n",
              "  width: 1em;\n",
              "  text-decoration: none !important;\n",
              "  margin-left: 0.5em;\n",
              "  text-align: center;\n",
              "  /* unfitted */\n",
              "  border: var(--sklearn-color-unfitted-level-1) 1pt solid;\n",
              "  color: var(--sklearn-color-unfitted-level-1);\n",
              "}\n",
              "\n",
              ".sk-estimator-doc-link.fitted,\n",
              "a:link.sk-estimator-doc-link.fitted,\n",
              "a:visited.sk-estimator-doc-link.fitted {\n",
              "  /* fitted */\n",
              "  border: var(--sklearn-color-fitted-level-1) 1pt solid;\n",
              "  color: var(--sklearn-color-fitted-level-1);\n",
              "}\n",
              "\n",
              "/* On hover */\n",
              "div.sk-estimator:hover .sk-estimator-doc-link:hover,\n",
              ".sk-estimator-doc-link:hover,\n",
              "div.sk-label-container:hover .sk-estimator-doc-link:hover,\n",
              ".sk-estimator-doc-link:hover {\n",
              "  /* unfitted */\n",
              "  background-color: var(--sklearn-color-unfitted-level-3);\n",
              "  color: var(--sklearn-color-background);\n",
              "  text-decoration: none;\n",
              "}\n",
              "\n",
              "div.sk-estimator.fitted:hover .sk-estimator-doc-link.fitted:hover,\n",
              ".sk-estimator-doc-link.fitted:hover,\n",
              "div.sk-label-container:hover .sk-estimator-doc-link.fitted:hover,\n",
              ".sk-estimator-doc-link.fitted:hover {\n",
              "  /* fitted */\n",
              "  background-color: var(--sklearn-color-fitted-level-3);\n",
              "  color: var(--sklearn-color-background);\n",
              "  text-decoration: none;\n",
              "}\n",
              "\n",
              "/* Span, style for the box shown on hovering the info icon */\n",
              ".sk-estimator-doc-link span {\n",
              "  display: none;\n",
              "  z-index: 9999;\n",
              "  position: relative;\n",
              "  font-weight: normal;\n",
              "  right: .2ex;\n",
              "  padding: .5ex;\n",
              "  margin: .5ex;\n",
              "  width: min-content;\n",
              "  min-width: 20ex;\n",
              "  max-width: 50ex;\n",
              "  color: var(--sklearn-color-text);\n",
              "  box-shadow: 2pt 2pt 4pt #999;\n",
              "  /* unfitted */\n",
              "  background: var(--sklearn-color-unfitted-level-0);\n",
              "  border: .5pt solid var(--sklearn-color-unfitted-level-3);\n",
              "}\n",
              "\n",
              ".sk-estimator-doc-link.fitted span {\n",
              "  /* fitted */\n",
              "  background: var(--sklearn-color-fitted-level-0);\n",
              "  border: var(--sklearn-color-fitted-level-3);\n",
              "}\n",
              "\n",
              ".sk-estimator-doc-link:hover span {\n",
              "  display: block;\n",
              "}\n",
              "\n",
              "/* \"?\"-specific style due to the `<a>` HTML tag */\n",
              "\n",
              "#sk-container-id-1 a.estimator_doc_link {\n",
              "  float: right;\n",
              "  font-size: 1rem;\n",
              "  line-height: 1em;\n",
              "  font-family: monospace;\n",
              "  background-color: var(--sklearn-color-background);\n",
              "  border-radius: 1rem;\n",
              "  height: 1rem;\n",
              "  width: 1rem;\n",
              "  text-decoration: none;\n",
              "  /* unfitted */\n",
              "  color: var(--sklearn-color-unfitted-level-1);\n",
              "  border: var(--sklearn-color-unfitted-level-1) 1pt solid;\n",
              "}\n",
              "\n",
              "#sk-container-id-1 a.estimator_doc_link.fitted {\n",
              "  /* fitted */\n",
              "  border: var(--sklearn-color-fitted-level-1) 1pt solid;\n",
              "  color: var(--sklearn-color-fitted-level-1);\n",
              "}\n",
              "\n",
              "/* On hover */\n",
              "#sk-container-id-1 a.estimator_doc_link:hover {\n",
              "  /* unfitted */\n",
              "  background-color: var(--sklearn-color-unfitted-level-3);\n",
              "  color: var(--sklearn-color-background);\n",
              "  text-decoration: none;\n",
              "}\n",
              "\n",
              "#sk-container-id-1 a.estimator_doc_link.fitted:hover {\n",
              "  /* fitted */\n",
              "  background-color: var(--sklearn-color-fitted-level-3);\n",
              "}\n",
              "</style><div id=\"sk-container-id-1\" class=\"sk-top-container\"><div class=\"sk-text-repr-fallback\"><pre>KMeans()</pre><b>In a Jupyter environment, please rerun this cell to show the HTML representation or trust the notebook. <br />On GitHub, the HTML representation is unable to render, please try loading this page with nbviewer.org.</b></div><div class=\"sk-container\" hidden><div class=\"sk-item\"><div class=\"sk-estimator fitted sk-toggleable\"><input class=\"sk-toggleable__control sk-hidden--visually\" id=\"sk-estimator-id-1\" type=\"checkbox\" checked><label for=\"sk-estimator-id-1\" class=\"sk-toggleable__label fitted sk-toggleable__label-arrow\"><div><div>KMeans</div></div><div><span class=\"sk-estimator-doc-link fitted\">i<span>Fitted</span></span></div></label><div class=\"sk-toggleable__content fitted\"><pre>KMeans()</pre></div> </div></div></div></div>"
            ]
          },
          "metadata": {},
          "execution_count": 4
        }
      ]
    },
    {
      "cell_type": "markdown",
      "source": [
        "Store the cluster label results in k_meansdf. Notice that window 0 is labeled as class 1 by KMeans with n_clusters=2 and class 0 for KMeans with n_clusters=3. Note that this does not inherently say anything about whether they have been labeled as separate classes, it is simply a product of the arbitriray labeling convention used by each."
      ],
      "metadata": {
        "id": "NZx5KB772hQK"
      }
    },
    {
      "cell_type": "markdown",
      "source": [
        "Also consider that n_cluster could be greater than those assummed classes if there are some significant differences between signals of different tremor itensities. This will not be a factor within the scope of this notebook because all samples derive from a single patient with data being recorded in one sitting as well, so intensity should be relatively consistent. **BUT** this is important to note when trying to generalize the model to work for different patients which may have tremors of various intensities."
      ],
      "metadata": {
        "id": "dRpxxJRwQVIo"
      }
    },
    {
      "cell_type": "code",
      "source": [
        "kmeans_2_labels = kmeans_2.labels_\n",
        "kmeans_3_labels = kmeans_3.labels_\n",
        "\n",
        "k_meansdf = cudf.DataFrame()\n",
        "k_meansdf['kmeans_2_labels'] = kmeans_2_labels\n",
        "k_meansdf['kmeans_3_labels'] = kmeans_3_labels\n",
        "\n",
        "k_meansdf.head()"
      ],
      "metadata": {
        "colab": {
          "base_uri": "https://localhost:8080/",
          "height": 206
        },
        "id": "bK__FIFz1pNc",
        "outputId": "f5993ad1-5bb8-41bb-9fe5-5453822072ad"
      },
      "execution_count": 5,
      "outputs": [
        {
          "output_type": "execute_result",
          "data": {
            "text/plain": [
              "   kmeans_2_labels  kmeans_3_labels\n",
              "0                1                0\n",
              "1                1                0\n",
              "2                1                0\n",
              "3                1                0\n",
              "4                1                0"
            ],
            "text/html": [
              "<div>\n",
              "<style scoped>\n",
              "    .dataframe tbody tr th:only-of-type {\n",
              "        vertical-align: middle;\n",
              "    }\n",
              "\n",
              "    .dataframe tbody tr th {\n",
              "        vertical-align: top;\n",
              "    }\n",
              "\n",
              "    .dataframe thead th {\n",
              "        text-align: right;\n",
              "    }\n",
              "</style>\n",
              "<table border=\"1\" class=\"dataframe\">\n",
              "  <thead>\n",
              "    <tr style=\"text-align: right;\">\n",
              "      <th></th>\n",
              "      <th>kmeans_2_labels</th>\n",
              "      <th>kmeans_3_labels</th>\n",
              "    </tr>\n",
              "  </thead>\n",
              "  <tbody>\n",
              "    <tr>\n",
              "      <th>0</th>\n",
              "      <td>1</td>\n",
              "      <td>0</td>\n",
              "    </tr>\n",
              "    <tr>\n",
              "      <th>1</th>\n",
              "      <td>1</td>\n",
              "      <td>0</td>\n",
              "    </tr>\n",
              "    <tr>\n",
              "      <th>2</th>\n",
              "      <td>1</td>\n",
              "      <td>0</td>\n",
              "    </tr>\n",
              "    <tr>\n",
              "      <th>3</th>\n",
              "      <td>1</td>\n",
              "      <td>0</td>\n",
              "    </tr>\n",
              "    <tr>\n",
              "      <th>4</th>\n",
              "      <td>1</td>\n",
              "      <td>0</td>\n",
              "    </tr>\n",
              "  </tbody>\n",
              "</table>\n",
              "</div>"
            ]
          },
          "metadata": {},
          "execution_count": 5
        }
      ]
    },
    {
      "cell_type": "markdown",
      "source": [
        "We can mathematically observe the clusters using their independent cluster variances (how tight each cluster is) as well as the total variance (how well the overall grouping is)."
      ],
      "metadata": {
        "id": "5iJOziuU9h6c"
      }
    },
    {
      "cell_type": "code",
      "source": [
        "lbl_2 = kmeans_2.labels_\n",
        "centroid_2 = kmeans_2.cluster_centers_\n",
        "lbl_3 = kmeans_3.labels_\n",
        "centroid_3 = kmeans_3.cluster_centers_\n",
        "\n",
        "# add KMeans labels to gdf\n",
        "# gdf_lbl = gdf.merge(k_meansdf, left_index=True, right_index=True)\n",
        "\n",
        "variance_2 = cp.zeros((2,))\n",
        "variance_3 = cp.zeros((3,))\n",
        "\n",
        "# independent variance for n_clusters = 2\n",
        "for i in range(kmeans_2.n_clusters):\n",
        "    vectors_in_cluster = gdf[lbl_2 == i].to_cupy()\n",
        "    variance_2[i] = cp.mean(cp.sum((vectors_in_cluster - centroid_2.iloc[i].to_cupy()) ** 2, axis=1))\n",
        "\n",
        "# independent variance for n_clusters = 3\n",
        "for i in range(kmeans_3.n_clusters):\n",
        "    vectors_in_cluster = gdf[lbl_3 == i].to_cupy()\n",
        "    variance_3[i] = cp.mean(cp.sum((vectors_in_cluster - centroid_3.iloc[i].to_cupy()) ** 2, axis=1))\n",
        "\n",
        "counts_2 = cp.bincount(lbl_2.to_cupy())\n",
        "counts_3 = cp.bincount(lbl_3.to_cupy())\n",
        "\n",
        "# weighted sum of independent cluster variances / total samples = total variance\n",
        "kmeans_2_var = (cp.sum(variance_2 * counts_2)/len(gdf)).get()\n",
        "kmeans_3_var = (cp.sum(variance_3 * counts_3)/len(gdf)).get()\n",
        "\n",
        "\n",
        "print(f'Counts for KMeans with n_clusters=2: {counts_2}')\n",
        "\n",
        "print(f'Counts for KMeans with n_clusters=3: {counts_3}')\n",
        "\n",
        "print(f'Total variance per sample KMeans with n_clusters=2: {kmeans_2_var}')\n",
        "print(f'Total variance per sample for KMeans with n_clusters=3: {kmeans_3_var}')"
      ],
      "metadata": {
        "colab": {
          "base_uri": "https://localhost:8080/"
        },
        "id": "tazVN0Ux3cs7",
        "outputId": "bf4bdf43-9d48-4d8e-cc74-0f2065938a4a"
      },
      "execution_count": 6,
      "outputs": [
        {
          "output_type": "stream",
          "name": "stdout",
          "text": [
            "Counts for KMeans with n_clusters=2: [2890  201]\n",
            "Counts for KMeans with n_clusters=3: [ 212 2864   15]\n",
            "Total variance per sample KMeans with n_clusters=2: 336024686.8950472\n",
            "Total variance per sample for KMeans with n_clusters=3: 213317003.0448627\n"
          ]
        }
      ]
    },
    {
      "cell_type": "markdown",
      "source": [
        "Now, let's try with other values for n_clusters to see if 2 or 3 is optimal or if the relationships (found by KMeans) are more nuanced than our initial assumption. To gauge this, we plot variance over values for n_clusters and apply \"Elbow Rule\" to determine optimal K (n_clusters)."
      ],
      "metadata": {
        "id": "EzLmVykoIxfg"
      }
    },
    {
      "cell_type": "code",
      "source": [
        "# variance per sample for different value of Ks (i.e. n_clusters)\n",
        "K = 10\n",
        "variance_K =  []\n",
        "for k in range(1,K+1):\n",
        "    kmeans = KMeans(n_clusters=k, max_iter=300, random_state=20)\n",
        "    kmeans.fit(gdf)\n",
        "    variance_K.append(kmeans.inertia_/len(gdf))\n",
        "\n",
        "k = np.arange(1,K+1)\n",
        "variance_K = np.array(variance_K)\n",
        "var_reduction = 1 - variance_K/variance_K[0]"
      ],
      "metadata": {
        "id": "SJUY-NmlJNyn"
      },
      "execution_count": 7,
      "outputs": []
    },
    {
      "cell_type": "code",
      "source": [
        "import matplotlib.pyplot as plt\n",
        "\n",
        "fig, ax = plt.subplots(1,2, figsize=(12,5))\n",
        "ax[0].plot(k, variance_K, 'bx-')\n",
        "ax[0].set_xlabel('K (n_clusters)')\n",
        "ax[0].set_ylabel('Variance (avg. per sample)')\n",
        "ax[0].set_title('K vs. Variance')\n",
        "\n",
        "ax[1].plot(k, var_reduction, 'bx-')\n",
        "ax[1].set_xlabel('K (n_clusters)')\n",
        "ax[1].set_ylabel('Variance Reduction')\n",
        "ax[1].set_title('Elbow Plot')\n",
        "\n",
        "plt.show()"
      ],
      "metadata": {
        "colab": {
          "base_uri": "https://localhost:8080/",
          "height": 487
        },
        "id": "vLDmFWG7LVpg",
        "outputId": "097ad999-82c5-4196-a7bc-3a1f55d144f1"
      },
      "execution_count": 8,
      "outputs": [
        {
          "output_type": "display_data",
          "data": {
            "text/plain": [
              "<Figure size 1200x500 with 2 Axes>"
            ],
            "image/png": "[encoded data removed]"
          },
          "metadata": {}
        }
      ]
    },
    {
      "cell_type": "markdown",
      "source": [
        "We can further assess our clustering quality using another cluster validation metric, Calinski-Harabasz Index (CHI). This index how separated the cluster centers are and how internally compact each one is (the independent variances we computed earlier)."
      ],
      "metadata": {
        "id": "VFXh-wZAsYgR"
      }
    },
    {
      "cell_type": "markdown",
      "source": [
        "To make this easy to follow, recompute KMeans for our discovered optimal K values, K=2 and K=3. Determine CHI for both of them."
      ],
      "metadata": {
        "id": "zOXIJh4NuRwf"
      }
    },
    {
      "cell_type": "code",
      "source": [
        "# compute KMeans for K=2, K=3\n",
        "kmeans_2 = KMeans(n_clusters=2, max_iter=300, random_state=20)\n",
        "kmeans_2.fit(gdf)\n",
        "kmeans_3 = KMeans(n_clusters=3, max_iter=300, random_state=20)\n",
        "kmeans_3.fit(gdf)\n",
        "\n",
        "def CHI(kmeans, gdf):\n",
        "    # within-cluster dispersion\n",
        "    W = kmeans.inertia_\n",
        "    # between-cluster dispersion\n",
        "    global_centroid = cp.mean(gdf.to_cupy(), axis=0)\n",
        "    cluster_size = cp.bincount(kmeans.labels_.to_cupy())\n",
        "    cluster_centroid = kmeans.cluster_centers_.to_cupy()\n",
        "    B = cp.sum(cluster_size[:, None] * (cluster_centroid - global_centroid)**2)\n",
        "    # scalling factors\n",
        "    N = len(gdf)\n",
        "    K = kmeans.n_clusters\n",
        "    return ( (B/(K-1)) / (W/(N-K)) ).get()\n",
        "\n",
        "print(f'CHI for K=2: {CHI(kmeans_2, gdf)}')\n",
        "print(f'CHI for K=3: {CHI(kmeans_3, gdf)}')"
      ],
      "metadata": {
        "colab": {
          "base_uri": "https://localhost:8080/"
        },
        "id": "IowzDe42tSBn",
        "outputId": "3519c14b-6d4c-4df1-c48c-ec9ae72720b6"
      },
      "execution_count": 22,
      "outputs": [
        {
          "output_type": "stream",
          "name": "stdout",
          "text": [
            "CHI for K=2: 5404.259900173774\n",
            "CHI for K=3: 5143.280085872498\n"
          ]
        }
      ]
    },
    {
      "cell_type": "markdown",
      "source": [
        "Here we have a higher CHI value for K=2, idicating that it is slightly better. The reason why higher is better is because that indicates lower dispersion within clusters (W) and higher cluster separation (B), representing tighter and more distinct groups respectively."
      ],
      "metadata": {
        "id": "IAjILq1C4bg8"
      }
    },
    {
      "cell_type": "markdown",
      "source": [
        "# Conclusion and Final Remarks"
      ],
      "metadata": {
        "id": "z92m72O_RntI"
      }
    },
    {
      "cell_type": "markdown",
      "source": [
        "**Results:** Notice the second plot (right), there is a big variance reduction from K=1 to K=2 and by K=4 there are no more noticeable gains. The thing with KMeans is that variance will naturally go to 0 as K approaches the number of samples since if you assign a cluster center to each sample you get 0 variance. So the \"Eblow Rule\" essentially says, instead look at the values K where the variance reduction step is the largest and where it begins to flat line, those are the most likely viable K values. Side-note: It is called the elbow rule since that's where the noticeable bend is, like an elbow."
      ],
      "metadata": {
        "id": "o46vOvz4NVp9"
      }
    },
    {
      "cell_type": "markdown",
      "source": [
        "**Conclusion:** We can conclude that there is in fact a \"learnable\" diffrentiation between different classes in this tremor dataset. From the Elbow Plot, we have that K=2, K=3, and even perhaps K=4 are the most representative number of clusters in our data which alligns with our assumption and intention or predicting tremor vs. non-tremor classes (with another candidate class of pre-tremor). If unsupervised methods can differentiate these groups, our modern deep learning methods should be able to do a better job. This notebook proves that the our data is not simply noise and is potentially viable for training."
      ],
      "metadata": {
        "id": "gnhJtzszO5WU"
      }
    }
  ]
}